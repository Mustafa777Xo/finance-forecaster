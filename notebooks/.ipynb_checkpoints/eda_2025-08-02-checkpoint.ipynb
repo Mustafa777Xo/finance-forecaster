{
 "cells": [
  {
   "cell_type": "code",
   "execution_count": null,
   "id": "0c48febb",
   "metadata": {},
   "outputs": [
    {
     "name": "stdout",
     "output_type": "stream",
     "text": [
      "All packages imported successfully!\n"
     ]
    }
   ],
   "source": [
    "# Load the latest data for analysis\n",
    "import glob\n",
    "import pandas as pd\n",
    "import pathlib\n",
    "import seaborn as sns\n",
    "import matplotlib.pyplot as plt\n",
    "\n",
    "# Set up plotting style\n",
    "plt.style.use('default')\n",
    "sns.set_palette(\"husl\")\n",
    "\n",
    "print(\"All packages imported successfully!\")\n"
   ]
  },
  {
   "cell_type": "code",
   "execution_count": null,
   "id": "d3dd780f-b0ef-4adb-b06a-2d5afc0da55f",
   "metadata": {},
   "outputs": [
    {
     "ename": "IndexError",
     "evalue": "list index out of range",
     "output_type": "error",
     "traceback": [
      "\u001b[31m---------------------------------------------------------------------------\u001b[39m",
      "\u001b[31mIndexError\u001b[39m                                Traceback (most recent call last)",
      "\u001b[36mCell\u001b[39m\u001b[36m \u001b[39m\u001b[32mIn[6]\u001b[39m\u001b[32m, line 1\u001b[39m\n\u001b[32m----> \u001b[39m\u001b[32m1\u001b[39m latest = \u001b[38;5;28;43msorted\u001b[39;49m\u001b[43m(\u001b[49m\u001b[43mglob\u001b[49m\u001b[43m.\u001b[49m\u001b[43mglob\u001b[49m\u001b[43m(\u001b[49m\u001b[33;43m\"\u001b[39;49m\u001b[33;43mdata/processed/transactions_*.parquet\u001b[39;49m\u001b[33;43m\"\u001b[39;49m\u001b[43m)\u001b[49m\u001b[43m)\u001b[49m\u001b[43m[\u001b[49m\u001b[43m-\u001b[49m\u001b[32;43m1\u001b[39;49m\u001b[43m]\u001b[49m\n\u001b[32m      2\u001b[39m df = pd.read_parquet(latest)\n\u001b[32m      3\u001b[39m df.shape, df[\u001b[33m'\u001b[39m\u001b[33mdate\u001b[39m\u001b[33m'\u001b[39m].min(), df[\u001b[33m'\u001b[39m\u001b[33mdate\u001b[39m\u001b[33m'\u001b[39m].max()\n",
      "\u001b[31mIndexError\u001b[39m: list index out of range"
     ]
    }
   ],
   "source": [
    "latest = sorted(glob.glob(\"../data/processed/transactions_*.parquet\"))[-1]\n",
    "df = pd.read_parquet(latest)\n",
    "df.shape, df['date'].min(), df['date'].max()"
   ]
  },
  {
   "cell_type": "code",
   "execution_count": null,
   "id": "d7eef527",
   "metadata": {},
   "outputs": [],
   "source": [
    "# Cell 2 – Comprehensive manual EDA\n",
    "print(\"=== TRANSACTION DATA EXPLORATORY DATA ANALYSIS ===\")\n",
    "print(f\"Dataset shape: {df.shape}\")\n",
    "print(f\"Date range: {df['date'].min()} to {df['date'].max()}\")\n",
    "\n",
    "print(\"\\n=== DATASET OVERVIEW ===\")\n",
    "print(df.info())\n",
    "\n",
    "print(\"\\n=== MISSING VALUES ===\")\n",
    "missing_data = df.isnull().sum()\n",
    "missing_percent = 100 * df.isnull().sum() / len(df)\n",
    "missing_table = pd.DataFrame({'Missing Count': missing_data, 'Missing Percentage': missing_percent})\n",
    "print(missing_table[missing_table['Missing Count'] > 0])\n",
    "\n",
    "print(\"\\n=== BASIC STATISTICS ===\")\n",
    "print(df.describe())\n",
    "\n",
    "print(\"\\n=== CATEGORICAL COLUMNS ANALYSIS ===\")\n",
    "categorical_cols = df.select_dtypes(include=['object']).columns\n",
    "for col in categorical_cols:\n",
    "    print(f\"\\n{col.upper()} - Unique values: {df[col].nunique()}\")\n",
    "    print(df[col].value_counts().head(10))\n",
    "\n",
    "print(\"\\n=== NUMERICAL COLUMNS ANALYSIS ===\")\n",
    "numerical_cols = df.select_dtypes(include=['int64', 'float64']).columns\n",
    "for col in numerical_cols:\n",
    "    print(f\"\\n{col.upper()}:\")\n",
    "    print(f\"Mean: {df[col].mean():.2f}, Median: {df[col].median():.2f}\")\n",
    "    print(f\"Min: {df[col].min():.2f}, Max: {df[col].max():.2f}\")\n",
    "    print(f\"Std: {df[col].std():.2f}\")\n",
    "\n",
    "print(\"\\n=== DATA QUALITY ISSUES ===\")\n",
    "# Check for duplicates\n",
    "duplicates = df.duplicated().sum()\n",
    "print(f\"Duplicate rows: {duplicates}\")\n",
    "\n",
    "# Check for zero amounts\n",
    "if 'amount' in df.columns:\n",
    "    zero_amounts = (df['amount'] == 0).sum()\n",
    "    print(f\"Zero amount transactions: {zero_amounts}\")\n",
    "\n",
    "print(\"\\nManual EDA completed! See visualizations in next cells.\")\n"
   ]
  },
  {
   "cell_type": "code",
   "execution_count": null,
   "id": "f3ac3c88",
   "metadata": {},
   "outputs": [],
   "source": [
    "# Cell 3 – Visualizations\n",
    "fig, axes = plt.subplots(2, 2, figsize=(15, 12))\n",
    "fig.suptitle('Transaction Data Analysis', fontsize=16)\n",
    "\n",
    "# 1. Amount distribution\n",
    "if 'amount' in df.columns:\n",
    "    axes[0, 0].hist(df['amount'], bins=50, alpha=0.7, color='skyblue')\n",
    "    axes[0, 0].set_title('Amount Distribution')\n",
    "    axes[0, 0].set_xlabel('Amount')\n",
    "    axes[0, 0].set_ylabel('Frequency')\n",
    "\n",
    "# 2. Transactions over time\n",
    "if 'date' in df.columns:\n",
    "    df_time = df.groupby('date').size()\n",
    "    axes[0, 1].plot(df_time.index, df_time.values, color='green')\n",
    "    axes[0, 1].set_title('Transactions Over Time')\n",
    "    axes[0, 1].set_xlabel('Date')\n",
    "    axes[0, 1].set_ylabel('Number of Transactions')\n",
    "    axes[0, 1].tick_params(axis='x', rotation=45)\n",
    "\n",
    "# 3. Top categories (if category column exists)\n",
    "cat_columns = df.select_dtypes(include=['object']).columns\n",
    "if len(cat_columns) > 0:\n",
    "    # Use the first categorical column\n",
    "    cat_col = cat_columns[0]\n",
    "    top_cats = df[cat_col].value_counts().head(10)\n",
    "    axes[1, 0].barh(range(len(top_cats)), top_cats.values, color='coral')\n",
    "    axes[1, 0].set_yticks(range(len(top_cats)))\n",
    "    axes[1, 0].set_yticklabels(top_cats.index)\n",
    "    axes[1, 0].set_title(f'Top 10 {cat_col.title()}')\n",
    "    axes[1, 0].set_xlabel('Count')\n",
    "\n",
    "# 4. Missing values heatmap\n",
    "missing_df = df.isnull().sum()\n",
    "if missing_df.sum() > 0:\n",
    "    axes[1, 1].bar(range(len(missing_df)), missing_df.values, color='red', alpha=0.6)\n",
    "    axes[1, 1].set_xticks(range(len(missing_df)))\n",
    "    axes[1, 1].set_xticklabels(missing_df.index, rotation=45)\n",
    "    axes[1, 1].set_title('Missing Values by Column')\n",
    "    axes[1, 1].set_ylabel('Missing Count')\n",
    "else:\n",
    "    axes[1, 1].text(0.5, 0.5, 'No Missing Values', ha='center', va='center', \n",
    "                    transform=axes[1, 1].transAxes, fontsize=14)\n",
    "    axes[1, 1].set_title('Missing Values Check')\n",
    "\n",
    "plt.tight_layout()\n",
    "plt.show()\n",
    "\n",
    "# Correlation matrix for numerical columns\n",
    "numerical_cols = df.select_dtypes(include=['int64', 'float64']).columns\n",
    "if len(numerical_cols) > 1:\n",
    "    plt.figure(figsize=(10, 8))\n",
    "    correlation_matrix = df[numerical_cols].corr()\n",
    "    sns.heatmap(correlation_matrix, annot=True, cmap='coolwarm', center=0)\n",
    "    plt.title('Correlation Matrix of Numerical Variables')\n",
    "    plt.show()\n",
    "\n",
    "print(\"Visualizations completed!\")\n"
   ]
  }
 ],
 "metadata": {
  "kernelspec": {
   "display_name": "Python 3",
   "language": "python",
   "name": "python3"
  },
  "language_info": {
   "codemirror_mode": {
    "name": "ipython",
    "version": 3
   },
   "file_extension": ".py",
   "mimetype": "text/x-python",
   "name": "python",
   "nbconvert_exporter": "python",
   "pygments_lexer": "ipython3",
   "version": "3.11.8"
  }
 },
 "nbformat": 4,
 "nbformat_minor": 5
}
